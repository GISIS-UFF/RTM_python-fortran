{
 "cells": [
  {
   "cell_type": "markdown",
   "metadata": {},
   "source": [
    "# _Direct Wave Remotion Program_"
   ]
  },
  {
   "cell_type": "markdown",
   "metadata": {},
   "source": [
    "## Python Modules"
   ]
  },
  {
   "cell_type": "code",
   "execution_count": null,
   "metadata": {
    "collapsed": true
   },
   "outputs": [],
   "source": [
    "import time\n",
    "import matplotlib.pyplot as pl\n",
    "import numpy as np\n",
    "import multiprocessing as mp"
   ]
  },
  {
   "cell_type": "markdown",
   "metadata": {},
   "source": [
    "## Created Modules "
   ]
  },
  {
   "cell_type": "code",
   "execution_count": null,
   "metadata": {
    "collapsed": true
   },
   "outputs": [],
   "source": [
    "import parametro\n",
    "import auxfunctionsmodule as aux\n",
    "import fortransubroutines as fortran"
   ]
  },
  {
   "cell_type": "markdown",
   "metadata": {},
   "source": [
    "## Beginning of the Direct Wave Remotion Program"
   ]
  },
  {
   "cell_type": "code",
   "execution_count": null,
   "metadata": {
    "collapsed": true
   },
   "outputs": [],
   "source": [
    "# This variable will tell fortran tha we want to do the modelling of the seismograms\n",
    "regTTM = 0 \n",
    "\n",
    "start_time = time.time()"
   ]
  },
  {
   "cell_type": "markdown",
   "metadata": {},
   "source": [
    "## Seismic Source"
   ]
  },
  {
   "cell_type": "markdown",
   "metadata": {},
   "source": [
    "### Defines the source's samples"
   ]
  },
  {
   "cell_type": "code",
   "execution_count": null,
   "metadata": {
    "collapsed": true
   },
   "outputs": [],
   "source": [
    "lixo, fonte = np.loadtxt('wavelet_ricker.dat', unpack = True)\n",
    "Nfonte      = np.size(fonte)"
   ]
  },
  {
   "cell_type": "markdown",
   "metadata": {},
   "source": [
    "### Loads the source position file"
   ]
  },
  {
   "cell_type": "code",
   "execution_count": null,
   "metadata": {
    "collapsed": true
   },
   "outputs": [],
   "source": [
    "Fx, Fz = np.loadtxt('posicoes_fonte.dat',dtype = 'int',unpack = True)\n",
    "N_shot = np.size(Fx)"
   ]
  },
  {
   "cell_type": "markdown",
   "metadata": {},
   "source": [
    "## Homogeneous Seismogram\n",
    "\n",
    "### This part will be responsable for the creation of the homogeneous seismogram that later will be used to remove the direct wave"
   ]
  },
  {
   "cell_type": "markdown",
   "metadata": {},
   "source": [
    "### Here we are going to divide the problem in two cases: If we have only one shot and if we have multiple shots."
   ]
  },
  {
   "cell_type": "markdown",
   "metadata": {},
   "source": [
    "#### One shot"
   ]
  },
  {
   "cell_type": "code",
   "execution_count": null,
   "metadata": {
    "collapsed": true
   },
   "outputs": [],
   "source": [
    "# This part of the script is responsable for the homogeneous seismogram creation\n",
    "print(\"Modelagem com modelo Homogeneo para remover onda direta\")\n",
    "\n",
    "# Case 1: Only one shot\n",
    "if N_shot == 1:\n",
    "    print(\"Fx =\", Fx, \"Fz =\", Fz, \"shot\",N_shot)\n",
    "    fortran.nucleomodelagem(parametro.Nz,parametro.Nx,parametro.Nt,\\\n",
    "                    parametro.h,parametro.dt,parametro.nat,\\\n",
    "                    N_shot,parametro.shotshow,\\\n",
    "                    Fx,Fz,fonte,parametro.Nsnap,regTTM,\\\n",
    "                    parametro.modelocamadadeagua,parametro.sismogramacamadadeagua,\\\n",
    "                    parametro.nome_prin,\\\n",
    "                    parametro.zr,)\n",
    "\n",
    "    print(\"shot=\",shot,\"Finalizado\")"
   ]
  },
  {
   "cell_type": "markdown",
   "metadata": {},
   "source": [
    "#### Multiple shots"
   ]
  },
  {
   "cell_type": "code",
   "execution_count": null,
   "metadata": {
    "collapsed": true
   },
   "outputs": [],
   "source": [
    "# Case 2: More than one shot -> use parallelization\n",
    "else:\n",
    "    procs = []    \n",
    "    for shot in np.arange(0,N_shot):\n",
    "        proc = mp.Process(target=aux.modelagemparalela, \\\n",
    "        args=(shot+1,\\\n",
    "        Fx[shot],\\\n",
    "        Fz[shot],\\\n",
    "        fonte,\\\n",
    "        regTTM,\\\n",
    "        parametro.sismogramacamadadeagua,\\\n",
    "        parametro.modelocamadadeagua,\\\n",
    "        parametro.nome_prin))\n",
    "        procs.append(proc)\n",
    "        proc.start()\n",
    "    \n",
    "    for proc in procs:\n",
    "        proc.join()"
   ]
  },
  {
   "cell_type": "markdown",
   "metadata": {},
   "source": [
    "## Direct Wave Remotion\n",
    "\n",
    "### This part will be responsable for the direct wave remotion "
   ]
  },
  {
   "cell_type": "markdown",
   "metadata": {},
   "source": [
    "### Again we are going to have two options: one shot and multiple shots"
   ]
  },
  {
   "cell_type": "markdown",
   "metadata": {},
   "source": [
    "#### One shot"
   ]
  },
  {
   "cell_type": "code",
   "execution_count": null,
   "metadata": {
    "collapsed": true
   },
   "outputs": [],
   "source": [
    "print(\"Removendo a onda direta\")\n",
    "\n",
    "# Case 1: Only one shot\n",
    "if N_shot == 1:\n",
    "     print(\"Fx =\", Fx, \"Fz =\", Fz, \"shot\",N_shot)\n",
    "     fortran.removeondadireta(parametro.Nt,\\\n",
    "                              parametro.Nx,\\\n",
    "                              N_shot,\\\n",
    "                              parametro.nome_prin)"
   ]
  },
  {
   "cell_type": "markdown",
   "metadata": {},
   "source": [
    "#### Multiple shots"
   ]
  },
  {
   "cell_type": "code",
   "execution_count": null,
   "metadata": {
    "collapsed": true
   },
   "outputs": [],
   "source": [
    "# Case 2: More than one shot -> use parallelization\n",
    "else: \n",
    "     procs = []    \n",
    "     for shot in np.arange(0,N_shot):\n",
    "         proc = mp.Process(target=aux.remove_onda_direta,\\\n",
    "         args=(shot+1,\\\n",
    "         Fx[shot],\\\n",
    "         Fz[shot],\\\n",
    "         parametro.nome_prin))\n",
    "         procs.append(proc)\n",
    "         proc.start()\n",
    "    \n",
    "     for proc in procs:\n",
    "         proc.join()"
   ]
  },
  {
   "cell_type": "markdown",
   "metadata": {},
   "source": [
    "## Finishing the program"
   ]
  },
  {
   "cell_type": "code",
   "execution_count": null,
   "metadata": {
    "collapsed": true
   },
   "outputs": [],
   "source": [
    "elapsed_time_python = time.time() - start_time\n",
    "print (\"Tempo de processamento python = \", elapsed_time_python, \"s\")"
   ]
  }
 ],
 "metadata": {
  "kernelspec": {
   "display_name": "Python 2",
   "language": "python",
   "name": "python2"
  },
  "language_info": {
   "codemirror_mode": {
    "name": "ipython",
    "version": 2
   },
   "file_extension": ".py",
   "mimetype": "text/x-python",
   "name": "python",
   "nbconvert_exporter": "python",
   "pygments_lexer": "ipython2",
   "version": "2.7.13"
  }
 },
 "nbformat": 4,
 "nbformat_minor": 2
}
