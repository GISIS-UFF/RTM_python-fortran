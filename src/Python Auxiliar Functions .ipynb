{
 "cells": [
  {
   "cell_type": "markdown",
   "metadata": {},
   "source": [
    "## Python Modules "
   ]
  },
  {
   "cell_type": "code",
   "execution_count": 2,
   "metadata": {
    "collapsed": true
   },
   "outputs": [],
   "source": [
    "import numpy as np\n",
    "import matplotlib.pylab as pl"
   ]
  },
  {
   "cell_type": "markdown",
   "metadata": {},
   "source": [
    "## Modules Created"
   ]
  },
  {
   "cell_type": "code",
   "execution_count": 3,
   "metadata": {
    "collapsed": true
   },
   "outputs": [],
   "source": [
    "import parametro\n",
    "import fortransubroutines as fortran"
   ]
  },
  {
   "cell_type": "markdown",
   "metadata": {},
   "source": [
    "## Read Bianry File Function\n",
    "\n",
    "### This function is responsable for reading a binary file "
   ]
  },
  {
   "cell_type": "code",
   "execution_count": 4,
   "metadata": {
    "collapsed": true
   },
   "outputs": [],
   "source": [
    "def readbinaryfile(dim1,dim2,filename):\n",
    "      \"\"\"\n",
    "      readbinaryfile - Functions that read a binary file.\n",
    "      Usage\n",
    "      Input:\n",
    "      dim1     = Number of sample of 1st Dimension\n",
    "      dim2     = Number of sample of 2nd Dimension\n",
    "      filename = path of binary file     \n",
    "      \"\"\"      \n",
    "      with open(filename, 'rb') as f:    \n",
    "            data   = np.fromfile(f, dtype=np.float32, count= dim1*dim2)\n",
    "            matrix = np.reshape(data, [dim1,dim2], order='F')\n",
    "      return matrix"
   ]
  },
  {
   "cell_type": "markdown",
   "metadata": {},
   "source": [
    "## Plot Model\n",
    "\n",
    "### This function plots the model read in the function above"
   ]
  },
  {
   "cell_type": "code",
   "execution_count": 5,
   "metadata": {
    "collapsed": true
   },
   "outputs": [],
   "source": [
    "def plotmodel(matrix,colormap):\n",
    "      \"\"\"\n",
    "      Plot a 2D velocity model read from binary file.\n",
    "\n",
    "      \"\"\"      \n",
    "      pl.figure()\n",
    "      pl.imshow(matrix,cmap= colormap)\n",
    "\n",
    "      pl.colorbar()\n",
    "      pl.draw() # drawing figure to be plotted later"
   ]
  },
  {
   "cell_type": "markdown",
   "metadata": {},
   "source": [
    "## Plot Graphics\n",
    "\n",
    "### This function plots 2D graphics: In this project it is used to plot our wavelet and damping function "
   ]
  },
  {
   "cell_type": "code",
   "execution_count": 18,
   "metadata": {
    "collapsed": true
   },
   "outputs": [],
   "source": [
    "def plotgraphics(ID,filename,color):  \n",
    "\n",
    "      \"\"\"    \n",
    "      Plotgraphics -> Function that read a file and plot a graphic.\n",
    "\n",
    "      REMEMBER: The function 'np.loadtxt' only can be used with files written\n",
    "            with dot separation\n",
    "\n",
    "            ID = number of columns of the file    \n",
    "      \"\"\"      \n",
    "      if ID == 2:\n",
    "            \n",
    "            X,Y = np.loadtxt(filename, unpack = True)\n",
    "\n",
    "            pl.figure()\n",
    "            pl.plot(X,Y, c = color)\n",
    "            pl.draw()\n",
    "\n",
    "      if ID == 1:\n",
    "            \n",
    "            X = np.loadtxt(filename, unpack = True)\n",
    "\n",
    "            pl.figure()\n",
    "            pl.plot(X, c = color)\n",
    "            pl.draw()\n",
    "            \n",
    "      return"
   ]
  },
  {
   "cell_type": "markdown",
   "metadata": {},
   "source": [
    "## Damping Function\n",
    "\n",
    "### This python function creates a damping function that will be used in our Cerjan Condition"
   ]
  },
  {
   "cell_type": "code",
   "execution_count": null,
   "metadata": {
    "collapsed": true
   },
   "outputs": [],
   "source": [
    "def amort(fat_amort,n_grid):\n",
    "\t\"\"\"\n",
    "\tamort -> Creates a damping function that will be used in the Cerjan condition.\n",
    "               The function created is saved in a txt file. \n",
    "      \n",
    "\t\"\"\"\t\n",
    "\tw = np.zeros(n_grid)\n",
    "  \n",
    "\tfor i in np.arange(0,(n_grid)):\n",
    "\t\tw[i] = np.exp(-(fat_amort * (n_grid-i)) ** 2)  \n",
    "\t  \n",
    "\tnp.savetxt('f_amort.dat',w, delimiter='.')"
   ]
  },
  {
   "cell_type": "markdown",
   "metadata": {},
   "source": [
    "## Source Position \n",
    "\n",
    "### This will create our source position in the model we are using"
   ]
  },
  {
   "cell_type": "code",
   "execution_count": null,
   "metadata": {
    "collapsed": true
   },
   "outputs": [],
   "source": [
    "def posicao_fonte(Nz,Nx,N_shot,Fx0,Fz0,SpaFonte):\n",
    "\n",
    "      \"\"\"\n",
    "\n",
    "      posicao_fonte -> Creates the source positions.\n",
    "                       The function created is saved in a txt file. \n",
    "\n",
    "      \"\"\"\n",
    "      \n",
    "      posicao = np.zeros((N_shot,2))\n",
    "\n",
    "      Fz = np.arange(0,N_shot)*0 + Fz0\n",
    "      Fx = np.arange(0,N_shot)*SpaFonte + Fx0\n",
    "\n",
    "\n",
    "      # if (N_shot*SpaFonte + Fx0) > (Nx -1):\n",
    "      #    raise ValueError (\"Fonte fora do modelo valido (horizontal). Modifique ou o espacamento da fonte ou a posicao inicial Fx0\")\n",
    "\n",
    "      # if (N_shot*SpaFonte + Fz0) > (Nz -1):\n",
    "      #    raise ValueError (\"Fonte fora do modelo valido (vertical). Modifique a posicao inicial Fz0\")\n",
    "     \n",
    "      posicao[0:N_shot,0] = Fx\n",
    "      posicao[0:N_shot,1] = Fz\n",
    "\n",
    "      np.savetxt(\"posicoes_fonte.dat\",posicao,fmt = '%i')"
   ]
  },
  {
   "cell_type": "markdown",
   "metadata": {},
   "source": [
    "## Modeling Function\n",
    "\n",
    "### This function is responsable for calling the fortran subroutine where will occur the acoustic modeling. The parameters used are from the 'parametros.py' module. "
   ]
  },
  {
   "cell_type": "code",
   "execution_count": 19,
   "metadata": {
    "collapsed": true
   },
   "outputs": [],
   "source": [
    "def modelagemparalela(shot,\\\n",
    "                      Fx,\\\n",
    "                      Fz,\\\n",
    "                      fonte,\\\n",
    "                      regTTM,\\\n",
    "                      sismograma,\\\n",
    "                      modelo,\\\n",
    "                      nome_prin): \n",
    "\n",
    "      \"\"\"\n",
    "      This function is responsible for the parallelization of the shots.\n",
    "      \"\"\"\n",
    "\n",
    "      print(\"Fx =\", Fx, \"Fz =\", Fz, \"shot\", shot)\n",
    "      fortran.nucleomodelagem(parametro.Nz,parametro.Nx,parametro.Nt,\\\n",
    "                                    parametro.h,parametro.dt,parametro.nat,\\\n",
    "                                    shot,parametro.shotshow,\\\n",
    "                                    Fx,Fz,fonte,parametro.Nsnap,regTTM,\\\n",
    "                                    modelo,sismograma,\\\n",
    "                                    nome_prin,\\\n",
    "                                    parametro.zr,)\n",
    "      print(\" shot= \",shot,\" Finalizado.\")\n"
   ]
  },
  {
   "cell_type": "markdown",
   "metadata": {},
   "source": [
    "## Remove Direct Wave Function\n",
    "\n",
    "### This calls the fortran function that will remove the direct wave from our seismograms. The parameters used are from the 'parametros.py' module and from our main python file.¶"
   ]
  },
  {
   "cell_type": "code",
   "execution_count": null,
   "metadata": {
    "collapsed": true
   },
   "outputs": [],
   "source": [
    "def remove_onda_direta(shot,Fx,Fz,nome_prin):\n",
    "\n",
    "      \"\"\"\n",
    "      This function is responsible for the parallelization of the direct wave's removal.\n",
    "      \"\"\"\n",
    "      print(\"Fx =\", Fx, \"Fz =\", Fz, \"shot\", shot)\n",
    "      fortran.removeondadireta(parametro.Nt,parametro.Nx,shot,nome_prin)\n",
    "      print(\" shot= \",shot,\" Finalizado.\")"
   ]
  }
 ],
 "metadata": {
  "kernelspec": {
   "display_name": "Python 2",
   "language": "python",
   "name": "python2"
  },
  "language_info": {
   "codemirror_mode": {
    "name": "ipython",
    "version": 2
   },
   "file_extension": ".py",
   "mimetype": "text/x-python",
   "name": "python",
   "nbconvert_exporter": "python",
   "pygments_lexer": "ipython2",
   "version": "2.7.13"
  }
 },
 "nbformat": 4,
 "nbformat_minor": 2
}
