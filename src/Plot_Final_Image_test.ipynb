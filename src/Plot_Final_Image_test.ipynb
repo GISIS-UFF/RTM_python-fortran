{
 "cells": [
  {
   "cell_type": "code",
   "execution_count": null,
   "metadata": {
    "collapsed": false
   },
   "outputs": [],
   "source": [
    "# Modules from Python\n",
    "\n",
    "import time\n",
    "import matplotlib.pyplot as pl\n",
    "import numpy as np\n",
    "import multiprocessing as mp\n",
    "\n",
    "# Modules created \n",
    "import parametro\n",
    "import auxfunctionsmodule as aux\n",
    "\n"
   ]
  },
  {
   "cell_type": "code",
   "execution_count": null,
   "metadata": {
    "collapsed": false
   },
   "outputs": [],
   "source": [
    "aux.readbinaryfile(parametro.Nz,parametro.Nx,\"../Imagem/FinalImage.bin\")\n",
    "aux.plotmodel(\"../Imagem/FinalImage.bin\",'gray')\n",
    "pl.show()"
   ]
  }
 ],
 "metadata": {
  "kernelspec": {
   "display_name": "Python 2",
   "language": "python",
   "name": "python2"
  },
  "language_info": {
   "codemirror_mode": {
    "name": "ipython",
    "version": 2
   },
   "file_extension": ".py",
   "mimetype": "text/x-python",
   "name": "python",
   "nbconvert_exporter": "python",
   "pygments_lexer": "ipython2",
   "version": "2.7.13"
  }
 },
 "nbformat": 4,
 "nbformat_minor": 2
}
