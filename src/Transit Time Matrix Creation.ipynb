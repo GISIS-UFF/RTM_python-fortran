{
 "cells": [
  {
   "cell_type": "markdown",
   "metadata": {},
   "source": [
    "# _Transit Time Matrix Creation Program_"
   ]
  },
  {
   "cell_type": "markdown",
   "metadata": {},
   "source": [
    "## Python Modules"
   ]
  },
  {
   "cell_type": "code",
   "execution_count": null,
   "metadata": {
    "collapsed": true
   },
   "outputs": [],
   "source": [
    "import time\n",
    "import matplotli.pyplot as pl\n",
    "import numpy as np\n",
    "import multiprocessing as mp"
   ]
  },
  {
   "cell_type": "markdown",
   "metadata": {},
   "source": [
    "## Created Modules"
   ]
  },
  {
   "cell_type": "code",
   "execution_count": null,
   "metadata": {
    "collapsed": true
   },
   "outputs": [],
   "source": [
    "import parametro\n",
    "import auxfunctionsmodule as aux\n",
    "import fortransubroutines as fortran"
   ]
  },
  {
   "cell_type": "markdown",
   "metadata": {},
   "source": [
    "## Begining of the Transit Time Matrix Creation Program"
   ]
  },
  {
   "cell_type": "code",
   "execution_count": null,
   "metadata": {
    "collapsed": true
   },
   "outputs": [],
   "source": [
    "# This variable will tell fortran tha we want to do the modelling of the transit time matrix\n",
    "regTTM = 1 \n",
    "\n",
    "start_time = time.time()"
   ]
  },
  {
   "cell_type": "markdown",
   "metadata": {},
   "source": [
    "## Velocity Model\n",
    "\n",
    "### Loads and plots the velocity model that will be modeling"
   ]
  },
  {
   "cell_type": "code",
   "execution_count": null,
   "metadata": {
    "collapsed": true
   },
   "outputs": [],
   "source": [
    "C = aux.readbinaryfile(parametro.Nz,parametro.Nx,parametro.modelosuavizado)\n",
    "aux.plotmodel(C, 'jet')"
   ]
  },
  {
   "cell_type": "markdown",
   "metadata": {},
   "source": [
    "## Seismic Source\n",
    "\n",
    "### Creates and plots the seismic source that will be used"
   ]
  },
  {
   "cell_type": "code",
   "execution_count": null,
   "metadata": {
    "collapsed": true
   },
   "outputs": [],
   "source": [
    "# Create the seismic source\n",
    "\n",
    "fortran.wavelet(1,parametro.dt,1,parametro.f_corte)"
   ]
  },
  {
   "cell_type": "code",
   "execution_count": null,
   "metadata": {
    "collapsed": true
   },
   "outputs": [],
   "source": [
    "# Shows the seismic pulse\n",
    "\n",
    "aux.plotgraphics(2,'wavelet_ricker.dat','k')\n",
    "pl.show()"
   ]
  },
  {
   "cell_type": "markdown",
   "metadata": {},
   "source": [
    "### Defines the source positions\n",
    "\n",
    "#### Creates the file with the source positions"
   ]
  },
  {
   "cell_type": "code",
   "execution_count": null,
   "metadata": {
    "collapsed": true
   },
   "outputs": [],
   "source": [
    "lixo, fonte = np.loadtxt('wavelet_ricker.dat', unpack = True)\n",
    "Nfonte      = np.size(fonte)"
   ]
  },
  {
   "cell_type": "markdown",
   "metadata": {},
   "source": [
    "### Defines the source positions\n",
    "\n",
    "#### Creates the file with the source positions"
   ]
  },
  {
   "cell_type": "code",
   "execution_count": null,
   "metadata": {
    "collapsed": true
   },
   "outputs": [],
   "source": [
    "if parametro.gera_pos_fonte: \n",
    "    aux.posicao_fonte(parametro.Nz,parametro.Nx,parametro.N_shot,parametro.Fx0,parametro.Fz0,parametro.SpaFonte)"
   ]
  },
  {
   "cell_type": "markdown",
   "metadata": {},
   "source": [
    "#### Loads the file created"
   ]
  },
  {
   "cell_type": "code",
   "execution_count": null,
   "metadata": {
    "collapsed": true
   },
   "outputs": [],
   "source": [
    "Fx, Fz = np.loadtxt('posicoes_fonte.dat',dtype = 'int',unpack = True)\n",
    "N_shot = np.size(Fx)\n",
    "\n",
    "print(N_shot)"
   ]
  },
  {
   "cell_type": "markdown",
   "metadata": {},
   "source": [
    "## Cerjan Condition\n",
    "\n",
    "### Creates and plots the damping function "
   ]
  },
  {
   "cell_type": "code",
   "execution_count": null,
   "metadata": {
    "collapsed": true
   },
   "outputs": [],
   "source": [
    "# Creates the damping function\n",
    "func_amort = aux.amort(parametro.fat,parametro.nat)"
   ]
  },
  {
   "cell_type": "code",
   "execution_count": null,
   "metadata": {
    "collapsed": true
   },
   "outputs": [],
   "source": [
    "# plots the created function\n",
    "aux.plotgraphics(1,'f_amort.dat','k')\n",
    "pl.show()"
   ]
  },
  {
   "cell_type": "markdown",
   "metadata": {},
   "source": [
    "## Acoustic Modeling - Transit Time Matrix Creation\n",
    "\n",
    "### Here we are going to divide the problem in two cases: If we have only one shot and if we have multiple shots."
   ]
  },
  {
   "cell_type": "markdown",
   "metadata": {},
   "source": [
    "#### One shot"
   ]
  },
  {
   "cell_type": "code",
   "execution_count": null,
   "metadata": {
    "collapsed": true
   },
   "outputs": [],
   "source": [
    "# Case 1: Only one shot\n",
    "\n",
    "if N_shot == 1:\n",
    "     print(\"Fx =\", Fx, \"Fz =\", Fz, \"shot\",N_shot)\n",
    "    fortran.nucleomodelagem(parametro.Nz,parametro.Nx,parametro.Nt,\\\n",
    "                                parametro.h,parametro.dt,parametro.nat,\\\n",
    "                                N_shot,parametro.shotshow,\\\n",
    "                                Fx,Fz,fonte,parametro.Nsnap,regTTM,\\\n",
    "                                parametro.modelosuavizado,parametro.caminho_TTM,\\\n",
    "                                parametro.nome_prin,\\\n",
    "                                parametro.zr,)\n",
    "    print(\" shot= \",shot,\" Finalizado.\")"
   ]
  },
  {
   "cell_type": "markdown",
   "metadata": {},
   "source": [
    "#### Multiple shots"
   ]
  },
  {
   "cell_type": "code",
   "execution_count": null,
   "metadata": {
    "collapsed": true
   },
   "outputs": [],
   "source": [
    "# Case 2: More than one shot -> use parallelization\n",
    "\n",
    "else:\n",
    "     procs = []    \n",
    "    for shot in np.arange(0,N_shot):\n",
    "        proc = mp.Process(target=aux.modelagemparalela, args=(shot+1,Fx[shot],Fz[shot],fonte,regTTM))\n",
    "        procs.append(proc)\n",
    "        proc.start()\n",
    "    \n",
    "    for proc in procs:\n",
    "        proc.join()"
   ]
  },
  {
   "cell_type": "markdown",
   "metadata": {},
   "source": [
    "## Finishing the program"
   ]
  },
  {
   "cell_type": "code",
   "execution_count": null,
   "metadata": {
    "collapsed": true
   },
   "outputs": [],
   "source": [
    "elapsed_time_python = time.time() - start_time\n",
    "print (\"Tempo de processamento python = \", elapsed_time_python, \"s\")"
   ]
  }
 ],
 "metadata": {
  "kernelspec": {
   "display_name": "Python 2",
   "language": "python",
   "name": "python2"
  },
  "language_info": {
   "codemirror_mode": {
    "name": "ipython",
    "version": 2
   },
   "file_extension": ".py",
   "mimetype": "text/x-python",
   "name": "python",
   "nbconvert_exporter": "python",
   "pygments_lexer": "ipython2",
   "version": "2.7.13"
  }
 },
 "nbformat": 4,
 "nbformat_minor": 2
}
