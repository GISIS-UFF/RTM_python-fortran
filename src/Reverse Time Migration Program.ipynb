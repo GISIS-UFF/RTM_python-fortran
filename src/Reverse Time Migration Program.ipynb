{
 "cells": [
  {
   "cell_type": "markdown",
   "metadata": {},
   "source": [
    "# _Reverse Time Migration Program_\n"
   ]
  },
  {
   "cell_type": "markdown",
   "metadata": {},
   "source": [
    "## Python Modules"
   ]
  },
  {
   "cell_type": "code",
   "execution_count": null,
   "metadata": {},
   "outputs": [],
   "source": [
    "import time\n",
    "import matplotlib.pyplot as pl\n",
    "import numpy as np\n",
    "import multiprocessing as mp"
   ]
  },
  {
   "cell_type": "markdown",
   "metadata": {},
   "source": [
    "## Created Modules "
   ]
  },
  {
   "cell_type": "code",
   "execution_count": null,
   "metadata": {},
   "outputs": [],
   "source": [
    "import parametro\n",
    "import auxfunctionsmodule as aux\n",
    "import fortransubroutines as fortran"
   ]
  },
  {
   "cell_type": "markdown",
   "metadata": {},
   "source": [
    "## Beginning of the Reverse Time Migration Program"
   ]
  },
  {
   "cell_type": "code",
   "execution_count": null,
   "metadata": {},
   "outputs": [],
   "source": [
    "start_time = time.time()\n",
    "\n",
    "StackImage = np.zeros((parametro.Nz,parametro.Nx)) # variable responsible for storing the migrated images"
   ]
  },
  {
   "cell_type": "markdown",
   "metadata": {},
   "source": [
    "## Seismic Source"
   ]
  },
  {
   "cell_type": "markdown",
   "metadata": {},
   "source": [
    "### Defines the source positions\n",
    "\n",
    "#### Loads the file created"
   ]
  },
  {
   "cell_type": "code",
   "execution_count": null,
   "metadata": {},
   "outputs": [],
   "source": [
    "# Loads the source position\n",
    "Fx, Fz = np.loadtxt('posicoes_fonte.dat',dtype = 'int',unpack = True)\n",
    "N_shot = np.size(Fx)"
   ]
  },
  {
   "cell_type": "markdown",
   "metadata": {},
   "source": [
    "## Reverse Time Migration\n",
    "\n",
    "### Here we are going to divide the problem in two cases: If we have only one shot and if we have multiple shots."
   ]
  },
  {
   "cell_type": "markdown",
   "metadata": {},
   "source": [
    "#### One shot"
   ]
  },
  {
   "cell_type": "code",
   "execution_count": null,
   "metadata": {},
   "outputs": [],
   "source": [
    "print(N_shot)\n",
    "\n",
    "# Case 1: Only one shot\n",
    "if N_shot == 1:\n",
    "    print(\"Fx =\", Fx, \"Fz =\", Fz, \"shot\",N_shot)\n",
    "    fortran.migracao(parametro.Nz,parametro.Nx,parametro.Nt,\\\n",
    "                                parametro.h,parametro.dt,parametro.nat,parametro.zr,\\\n",
    "                                N_shot,parametro.shotshow,\\\n",
    "                                parametro.Nsnap,\\\n",
    "                                parametro.modelosuavizado,parametro.nome_prin,)\n",
    "    print(\" shot= \",shot,\" Finalizado.\")"
   ]
  },
  {
   "cell_type": "markdown",
   "metadata": {},
   "source": [
    "#### Multiple Shots"
   ]
  },
  {
   "cell_type": "code",
   "execution_count": null,
   "metadata": {},
   "outputs": [],
   "source": [
    "# Case 2: More than one shot -> use parallelization   \n",
    "else: \n",
    "    procs = []    \n",
    "    for shot in np.arange(0,N_shot):\n",
    "        proc = mp.Process(target=aux.migracao_rtm, \\\n",
    "        args=(shot+1,\\\n",
    "        Fx[shot],\\\n",
    "        Fz[shot],\\\n",
    "        parametro.modelosuavizado,\\\n",
    "        parametro.nome_prin))\n",
    "\n",
    "        procs.append(proc)\n",
    "        proc.start()\n",
    "    \n",
    "    for proc in procs:\n",
    "        proc.join()"
   ]
  },
  {
   "cell_type": "markdown",
   "metadata": {},
   "source": [
    "## Finishing the program"
   ]
  },
  {
   "cell_type": "code",
   "execution_count": null,
   "metadata": {},
   "outputs": [],
   "source": [
    "elapsed_time_python = time.time() - start_time\n",
    "print (\"Tempo de processamento python = \", elapsed_time_python, \"s\")"
   ]
  }
 ],
 "metadata": {
  "kernelspec": {
   "display_name": "Python 3",
   "language": "python",
   "name": "python3"
  },
  "language_info": {
   "codemirror_mode": {
    "name": "ipython",
    "version": 3
   },
   "file_extension": ".py",
   "mimetype": "text/x-python",
   "name": "python",
   "nbconvert_exporter": "python",
   "pygments_lexer": "ipython3",
   "version": "3.7.0"
  }
 },
 "nbformat": 4,
 "nbformat_minor": 2
}
